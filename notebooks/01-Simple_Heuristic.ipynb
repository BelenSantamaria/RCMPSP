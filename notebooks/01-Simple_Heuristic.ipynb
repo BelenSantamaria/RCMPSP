{
 "cells": [
  {
   "cell_type": "code",
   "execution_count": 1,
   "id": "5899418d-c1f8-4031-aca4-c2fbddb0bcbc",
   "metadata": {},
   "outputs": [],
   "source": [
    "import glob\n",
    "import random\n",
    "\n",
    "from src.load_data import SingleProject, MultiProject"
   ]
  },
  {
   "cell_type": "markdown",
   "id": "504dd519-9193-43ea-9437-2242cf26b1e5",
   "metadata": {},
   "source": [
    "# Load Patterson Dataset"
   ]
  },
  {
   "cell_type": "code",
   "execution_count": 2,
   "id": "4cabbe43-bedb-4053-9309-1d00c7216f50",
   "metadata": {},
   "outputs": [],
   "source": [
    "path = \"../data/patterson\"\n",
    "\n",
    "single_projects = []\n",
    "\n",
    "for file in glob.glob(path + \"/*.rcp\"):\n",
    "    single_projects.append(SingleProject.read_instance(file))"
   ]
  },
  {
   "cell_type": "code",
   "execution_count": 3,
   "id": "494d404c-06be-4db7-a407-fb337e0783cd",
   "metadata": {},
   "outputs": [
    {
     "name": "stderr",
     "output_type": "stream",
     "text": [
      "<__array_function__ internals>:180: VisibleDeprecationWarning: Creating an ndarray from ragged nested sequences (which is a list-or-tuple of lists-or-tuples-or ndarrays with different lengths or shapes) is deprecated. If you meant to do this, you must specify 'dtype=object' when creating the ndarray.\n"
     ]
    }
   ],
   "source": [
    "single_projects = random.choices(single_projects, k=5)\n",
    "instance = MultiProject.unify_projects(single_projects)"
   ]
  },
  {
   "cell_type": "code",
   "execution_count": 4,
   "id": "22de56f9-d7e6-4e4a-bfea-8c8156474aeb",
   "metadata": {},
   "outputs": [
    {
     "data": {
      "text/plain": [
       "146"
      ]
     },
     "execution_count": 4,
     "metadata": {},
     "output_type": "execute_result"
    }
   ],
   "source": [
    "instance.n_jobs"
   ]
  },
  {
   "cell_type": "code",
   "execution_count": 5,
   "id": "1254b772-251e-457d-b804-c5494082478d",
   "metadata": {},
   "outputs": [
    {
     "data": {
      "text/plain": [
       "3"
      ]
     },
     "execution_count": 5,
     "metadata": {},
     "output_type": "execute_result"
    }
   ],
   "source": [
    "instance.n_resources"
   ]
  },
  {
   "cell_type": "code",
   "execution_count": 6,
   "id": "bd992336-97c3-4d1d-a11a-11e4a7e9be80",
   "metadata": {},
   "outputs": [
    {
     "data": {
      "text/plain": [
       "146"
      ]
     },
     "execution_count": 6,
     "metadata": {},
     "output_type": "execute_result"
    }
   ],
   "source": [
    "len(instance.durations)"
   ]
  },
  {
   "cell_type": "code",
   "execution_count": 7,
   "id": "5d2f31cb-797b-41ec-8a38-81ec6615156e",
   "metadata": {},
   "outputs": [
    {
     "data": {
      "text/plain": [
       "146"
      ]
     },
     "execution_count": 7,
     "metadata": {},
     "output_type": "execute_result"
    }
   ],
   "source": [
    "len(instance.successors)"
   ]
  },
  {
   "cell_type": "code",
   "execution_count": 8,
   "id": "24665408-4748-492a-b98d-2c08d7194a91",
   "metadata": {},
   "outputs": [
    {
     "data": {
      "text/plain": [
       "146"
      ]
     },
     "execution_count": 8,
     "metadata": {},
     "output_type": "execute_result"
    }
   ],
   "source": [
    "len(instance.predecessors)"
   ]
  },
  {
   "cell_type": "code",
   "execution_count": 9,
   "id": "3842a7e5-06f0-4c84-819c-2ef8db068760",
   "metadata": {},
   "outputs": [
    {
     "data": {
      "text/plain": [
       "146"
      ]
     },
     "execution_count": 9,
     "metadata": {},
     "output_type": "execute_result"
    }
   ],
   "source": [
    "len(instance.required_resources)"
   ]
  },
  {
   "cell_type": "markdown",
   "id": "42b613d7-3c77-4ea8-867e-6c4556c7a5c2",
   "metadata": {},
   "source": [
    "# Run a simple heuristic"
   ]
  },
  {
   "cell_type": "code",
   "execution_count": 10,
   "id": "4a2be13a-fb5b-4443-842f-a911aa168dd8",
   "metadata": {},
   "outputs": [],
   "source": [
    "import numpy as np"
   ]
  },
  {
   "cell_type": "code",
   "execution_count": 11,
   "id": "e08705b3-c67a-4991-a2aa-dac1e52d1871",
   "metadata": {},
   "outputs": [],
   "source": [
    "max_time = np.sum(instance.durations)"
   ]
  },
  {
   "cell_type": "code",
   "execution_count": 12,
   "id": "e139cade-cc33-4804-8683-5fff9a6930b2",
   "metadata": {},
   "outputs": [
    {
     "ename": "KeyboardInterrupt",
     "evalue": "",
     "output_type": "error",
     "traceback": [
      "\u001B[0;31m---------------------------------------------------------------------------\u001B[0m",
      "\u001B[0;31mKeyboardInterrupt\u001B[0m                         Traceback (most recent call last)",
      "Cell \u001B[0;32mIn [12], line 66\u001B[0m\n\u001B[1;32m     63\u001B[0m t \u001B[38;5;241m+\u001B[39m\u001B[38;5;241m=\u001B[39m \u001B[38;5;241m1\u001B[39m\n\u001B[1;32m     65\u001B[0m \u001B[38;5;66;03m# Compute set os jobs just completed\u001B[39;00m\n\u001B[0;32m---> 66\u001B[0m jobs_just_completed \u001B[38;5;241m=\u001B[39m [job \u001B[38;5;28;01mfor\u001B[39;00m job \u001B[38;5;129;01min\u001B[39;00m active_jobs \u001B[38;5;28;01mif\u001B[39;00m finishing_time[job] \u001B[38;5;241m<\u001B[39m t]\n\u001B[1;32m     68\u001B[0m \u001B[38;5;66;03m# Update set of active and completed jobs\u001B[39;00m\n\u001B[1;32m     69\u001B[0m \u001B[38;5;28;01mfor\u001B[39;00m job \u001B[38;5;129;01min\u001B[39;00m jobs_just_completed:\n",
      "Cell \u001B[0;32mIn [12], line 66\u001B[0m, in \u001B[0;36m<listcomp>\u001B[0;34m(.0)\u001B[0m\n\u001B[1;32m     63\u001B[0m t \u001B[38;5;241m+\u001B[39m\u001B[38;5;241m=\u001B[39m \u001B[38;5;241m1\u001B[39m\n\u001B[1;32m     65\u001B[0m \u001B[38;5;66;03m# Compute set os jobs just completed\u001B[39;00m\n\u001B[0;32m---> 66\u001B[0m jobs_just_completed \u001B[38;5;241m=\u001B[39m [job \u001B[38;5;28;01mfor\u001B[39;00m job \u001B[38;5;129;01min\u001B[39;00m active_jobs \u001B[38;5;28;01mif\u001B[39;00m finishing_time[job] \u001B[38;5;241m<\u001B[39m t]\n\u001B[1;32m     68\u001B[0m \u001B[38;5;66;03m# Update set of active and completed jobs\u001B[39;00m\n\u001B[1;32m     69\u001B[0m \u001B[38;5;28;01mfor\u001B[39;00m job \u001B[38;5;129;01min\u001B[39;00m jobs_just_completed:\n",
      "\u001B[0;31mKeyboardInterrupt\u001B[0m: "
     ]
    }
   ],
   "source": [
    "active_jobs = set()\n",
    "completed_jobs = set()\n",
    "scheduled_jobs = set()\n",
    "\n",
    "finishing_time = instance.n_jobs * [np.nan]\n",
    "available_resources = max_time * [instance.resource_availability]\n",
    "resource_transfers = np.zeros((instance.n_jobs, instance.n_jobs, instance.n_resources))\n",
    "resource_stocks = np.zeros((instance.n_jobs, instance.n_resources))\n",
    "\n",
    "t = 0\n",
    "\n",
    "completed_jobs.add(0)\n",
    "scheduled_jobs.add(0)\n",
    "finishing_time[0] = 0\n",
    "\n",
    "## No está en el algoritmo original (pongo todos los recursos en el primer job aunque no los necesita porque tienen que estar en algún sitio)\n",
    "resource_stocks[0] = instance.resource_availability\n",
    "\n",
    "# Set of elegible jobs at t=0\n",
    "eligible_jobs = [\n",
    "    i\n",
    "    for i, pred in enumerate(instance.predecessors)\n",
    "    if set(pred).issubset(completed_jobs)\n",
    "]\n",
    "\n",
    "# Iterate on increasing t until all jobs are assigned\n",
    "while len(scheduled_jobs) < instance.n_jobs:\n",
    "    if eligible_jobs:\n",
    "        # Apply job rule\n",
    "        # job with min latest finishing time (min LFT_MP)\n",
    "        selected_job = eligible_jobs[np.argmin(instance.durations[eligible_jobs])]\n",
    "\n",
    "        # Compute transfer feasible set for each resource type\n",
    "        transfer_feasible_jobs = [\n",
    "            (resource_stocks[job] > 0)\n",
    "            * (finishing_time[job] + instance.transfer_times[job, selected_job] < t)\n",
    "            for job in scheduled_jobs\n",
    "        ]\n",
    "        # Compute total supply os resources in t\n",
    "        supply_of_resources = np.sum(\n",
    "            transfer_feasible_jobs * resource_stocks[list(scheduled_jobs)], axis=0\n",
    "        )\n",
    "\n",
    "        # If supply is sufficient for all resources\n",
    "        if (supply_of_resources > instance.required_resources[selected_job]).all():\n",
    "            # Repeat until resource demand is satisfied\n",
    "            while (\n",
    "                resource_stocks[selected_job]\n",
    "                < instance.required_resources[selected_job]\n",
    "            ).any():\n",
    "\n",
    "                # Apply resource transfer rule (min GAP)\n",
    "                resource_needed = np.argmax(\n",
    "                    instance.required_resources[selected_job]\n",
    "                    - resource_stocks[selected_job]\n",
    "                )\n",
    "                feasible_jobs = [\n",
    "                    s\n",
    "                    for i, s in enumerate(scheduled_jobs)\n",
    "                    if (transfer_feasible_jobs[i] * resource_stocks[s])[resource_needed]\n",
    "                ]\n",
    "                transfer_job = feasible_jobs[\n",
    "                    np.argmin(\n",
    "                        t\n",
    "                        - (\n",
    "                            np.array(finishing_time)[feasible_jobs]\n",
    "                            + instance.transfer_times[feasible_jobs, selected_job]\n",
    "                        )\n",
    "                    )\n",
    "                ]\n",
    "\n",
    "                # Compute transferable amount of resource\n",
    "                resource_transfers[transfer_job, selected_job, :] = np.min(\n",
    "                    [\n",
    "                        resource_stocks[transfer_job],\n",
    "                        instance.required_resources[selected_job]\n",
    "                        - resource_stocks[selected_job],\n",
    "                    ],\n",
    "                    axis=0,\n",
    "                )\n",
    "                # Update resource stocks\n",
    "                resource_stocks[selected_job] += resource_transfers[\n",
    "                    transfer_job, selected_job, :\n",
    "                ]\n",
    "                resource_stocks[transfer_job] -= resource_transfers[\n",
    "                    transfer_job, selected_job, :\n",
    "                ]\n",
    "\n",
    "            # Schedule selected_job\n",
    "            finishing_time[selected_job] = t + instance.durations[selected_job]\n",
    "            scheduled_jobs.add(selected_job)\n",
    "            active_jobs.add(selected_job)\n",
    "\n",
    "            # Reduce available capacity of resources\n",
    "            if instance.durations[selected_job] > 0:\n",
    "                available_resources[\n",
    "                    t : t + instance.durations[selected_job]\n",
    "                ] -= instance.required_resources[selected_job]\n",
    "\n",
    "        # Remove selected_job from elegible_jobs set\n",
    "        eligible_jobs.remove(selected_job)\n",
    "\n",
    "    # Increase current time\n",
    "    t += 1\n",
    "\n",
    "    # Compute set os jobs just completed\n",
    "    jobs_just_completed = [job for job in active_jobs if finishing_time[job] < t]\n",
    "\n",
    "    # Update set of active and completed jobs\n",
    "    for job in jobs_just_completed:\n",
    "        completed_jobs.add(job)\n",
    "        active_jobs.remove(job)\n",
    "\n",
    "    # Compute set of elegible tasks\n",
    "    eligible_jobs = [\n",
    "        job\n",
    "        for job in set(range(instance.n_jobs)).difference(scheduled_jobs)\n",
    "        if set(instance.predecessors[job]).issubset(completed_jobs)\n",
    "        and (instance.required_resources[job] < available_resources[t]).all()\n",
    "    ]"
   ]
  },
  {
   "cell_type": "code",
   "execution_count": null,
   "id": "64b0e2b8-8601-4a18-a311-ef49b213146d",
   "metadata": {},
   "outputs": [],
   "source": [
    "max(finishing_time)"
   ]
  },
  {
   "cell_type": "code",
   "execution_count": null,
   "id": "7699035c-8aaf-41de-b806-60055adb71fc",
   "metadata": {},
   "outputs": [],
   "source": [
    "import matplotlib.pyplot as plt"
   ]
  },
  {
   "cell_type": "code",
   "execution_count": null,
   "id": "e8b35893-ac11-4f55-98df-9775d648b3ab",
   "metadata": {},
   "outputs": [],
   "source": [
    "resources = np.concatenate([available_resources[: max(finishing_time)]])\n",
    "\n",
    "fig, axes = plt.subplots(resources.shape[1], 1)\n",
    "\n",
    "fig.suptitle(\"Resource usage\")\n",
    "\n",
    "for i in range(resources.shape[1]):\n",
    "    axes[i].plot(resources[:, i])\n",
    "\n",
    "plt.tight_layout()"
   ]
  },
  {
   "cell_type": "code",
   "execution_count": null,
   "id": "fb86a61b-6944-42d3-a6f1-30f3fcdfc75a",
   "metadata": {},
   "outputs": [],
   "source": []
  },
  {
   "cell_type": "code",
   "execution_count": null,
   "id": "6437b195-9b9d-4101-bff1-4737dc084a05",
   "metadata": {},
   "outputs": [],
   "source": []
  },
  {
   "cell_type": "code",
   "execution_count": null,
   "id": "2a54d340-0b43-49e7-ad17-d1404cb19c01",
   "metadata": {},
   "outputs": [],
   "source": []
  }
 ],
 "metadata": {
  "kernelspec": {
   "display_name": "Python (rcmpsp)",
   "language": "python",
   "name": "rcmpsp"
  },
  "language_info": {
   "codemirror_mode": {
    "name": "ipython",
    "version": 3
   },
   "file_extension": ".py",
   "mimetype": "text/x-python",
   "name": "python",
   "nbconvert_exporter": "python",
   "pygments_lexer": "ipython3",
   "version": "3.8.15"
  }
 },
 "nbformat": 4,
 "nbformat_minor": 5
}
