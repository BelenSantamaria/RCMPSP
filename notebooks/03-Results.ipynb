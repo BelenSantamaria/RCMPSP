{
 "cells": [
  {
   "cell_type": "code",
   "execution_count": null,
   "id": "c18560da-7d4d-46b9-a656-cf01d2e8734a",
   "metadata": {},
   "outputs": [],
   "source": []
  },
  {
   "cell_type": "code",
   "execution_count": 1,
   "id": "3ab52f57-6a03-4e74-bd91-70fc2fefe6d7",
   "metadata": {},
   "outputs": [],
   "source": [
    "import glob\n",
    "import re\n",
    "import pandas as pd\n",
    "import time\n",
    "\n",
    "from src.load_data import Instance\n",
    "from src.heuristic import heuristic\n",
    "from src.combined_heuristic import combined_heuristic"
   ]
  },
  {
   "cell_type": "code",
   "execution_count": 2,
   "id": "58537ff3-9df4-47b7-ab2b-59c6d9f07a5f",
   "metadata": {},
   "outputs": [],
   "source": [
    "solution_path = \"../data/j60lb.sm\"\n",
    "\n",
    "with open(solution_path) as f:\n",
    "    lines = f.read()"
   ]
  },
  {
   "cell_type": "code",
   "execution_count": 3,
   "id": "76077b88-62bc-476a-a5b0-f1a2f9d1b82a",
   "metadata": {},
   "outputs": [],
   "source": [
    "solutions = {}\n",
    "separator = re.compile(\"\\=+\")\n",
    "for s in separator.split(lines)[4].split(\"\\n\")[1:-1]:\n",
    "    if s.split()[4]=='*':\n",
    "        solutions['j60' + s.split()[0] + '_' + s.split()[1] + '.sm'] = int(s.split()[2])"
   ]
  },
  {
   "cell_type": "code",
   "execution_count": 4,
   "id": "f2f28fab-2dba-40de-bda7-dfc3155a4f30",
   "metadata": {},
   "outputs": [],
   "source": [
    "folder_path = \"../data/j60.sm/\"\n",
    "\n",
    "results = pd.DataFrame(columns = [\"instance\", \"optimum_makespan\", \"matheus_makespan\", \"matheus_time\", \"belen_makespan\", \"belen_time\", \"combined_makespan\", \"combined_time\"])\n",
    "\n",
    "matheus_results = pd.read_csv(\"../data/results/matheus.csv\", sep=\";\")\n",
    "\n",
    "for sol in solutions:\n",
    "    problem_path = folder_path + sol\n",
    "    instance = Instance.read_instance(problem_path)\n",
    "    start = time.time()\n",
    "    solution_belen =  heuristic(instance)\n",
    "    end = time.time()\n",
    "    belen_time = end - start\n",
    "    start = time.time()\n",
    "    solution_combined =  combined_heuristic(instance)\n",
    "    end = time.time()\n",
    "    combined_time = end - start\n",
    "    \n",
    "    m = matheus_results[matheus_results[\"Instance\"]==sol]\n",
    "    \n",
    "    d = {\n",
    "        \"instance\": [sol], \n",
    "        \"optimum_makespan\": [solutions[sol]], \n",
    "        \"matheus_makespan\": [m[\"Heuristic makespan\"].item()], \n",
    "        \"matheus_time\": [m[\"Execution time (s)\"].item()], \n",
    "        \"belen_makespan\": [solution_belen.makespan], \n",
    "        \"belen_time\": [belen_time],\n",
    "        \"combined_makespan\": [solution_combined.makespan],\n",
    "        \"combined_time\": [combined_time]\n",
    "    }\n",
    "    df_new_row = pd.DataFrame.from_records(d)\n",
    "    results = pd.concat([results, df_new_row])"
   ]
  },
  {
   "cell_type": "code",
   "execution_count": 5,
   "id": "9893ce9b-ebdc-450c-b150-1b4fd1da65f1",
   "metadata": {},
   "outputs": [],
   "source": [
    "results.to_csv(\"../data/results/results.csv\")"
   ]
  },
  {
   "cell_type": "code",
   "execution_count": null,
   "id": "7e35c1dc-c79f-4162-94d0-351ecb451b9e",
   "metadata": {},
   "outputs": [],
   "source": []
  }
 ],
 "metadata": {
  "kernelspec": {
   "display_name": "Python (rcmpsp)",
   "language": "python",
   "name": "rcmpsp"
  },
  "language_info": {
   "codemirror_mode": {
    "name": "ipython",
    "version": 3
   },
   "file_extension": ".py",
   "mimetype": "text/x-python",
   "name": "python",
   "nbconvert_exporter": "python",
   "pygments_lexer": "ipython3",
   "version": "3.8.15"
  }
 },
 "nbformat": 4,
 "nbformat_minor": 5
}
